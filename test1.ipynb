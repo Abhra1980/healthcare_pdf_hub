{
 "cells": [
  {
   "cell_type": "code",
   "execution_count": null,
   "id": "3f9dd9b6",
   "metadata": {},
   "outputs": [
    {
     "ename": "SyntaxError",
     "evalue": "incomplete input (850608456.py, line 592)",
     "output_type": "error",
     "traceback": [
      "  \u001b[36mCell\u001b[39m\u001b[36m \u001b[39m\u001b[32mIn[1]\u001b[39m\u001b[32m, line 592\u001b[39m\n\u001b[31m    \u001b[39m\u001b[31mreadme_md = textwrap.dedent(r'''\u001b[39m\n                                ^\n\u001b[31mSyntaxError\u001b[39m\u001b[31m:\u001b[39m incomplete input\n"
     ]
    }
   ],
   "source": [
    "import os, textwrap, zipfile, json\n",
    "from pathlib import Path\n",
    "\n",
    "root = Path(\"C:/Data Science/Healthcare-PDF-Hub-Modular\")\n",
    "pkg = root / \"src\" / \"healthcare_pdf_hub\"\n",
    "ui_dir = pkg / \"ui\"\n",
    "utils_dir = pkg / \"utils\"\n",
    "\n",
    "# Create directories\n",
    "for d in [root, root/\"src\", pkg, ui_dir, utils_dir]:\n",
    "    d.mkdir(parents=True, exist_ok=True)\n",
    "    \n"
   ]
  }
 ],
 "metadata": {
  "kernelspec": {
   "display_name": "medichatpro",
   "language": "python",
   "name": "python3"
  },
  "language_info": {
   "codemirror_mode": {
    "name": "ipython",
    "version": 3
   },
   "file_extension": ".py",
   "mimetype": "text/x-python",
   "name": "python",
   "nbconvert_exporter": "python",
   "pygments_lexer": "ipython3",
   "version": "3.11.13"
  }
 },
 "nbformat": 4,
 "nbformat_minor": 5
}
