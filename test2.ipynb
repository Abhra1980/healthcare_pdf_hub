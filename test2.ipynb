{
 "cells": [
  {
   "cell_type": "code",
   "execution_count": null,
   "id": "18e5ab24",
   "metadata": {},
   "outputs": [],
   "source": [
    "import os\n",
    "EURI_API_KEY = os.environ[\"EURI_API_KEY\"]   "
   ]
  },
  {
   "cell_type": "code",
   "execution_count": 3,
   "id": "60b6c41d",
   "metadata": {},
   "outputs": [],
   "source": [
    "#from pypdf import pdf, PdfReader, PdfWriter\n",
    "from pypdf import PdfReader, PdfWriter\n",
    "from typing import List, Optional\n",
    "from io import BytesIO\n",
    "import os\n",
    "from langchain.text_splitter import RecursiveCharacterTextSplitter"
   ]
  },
  {
   "cell_type": "code",
   "execution_count": 4,
   "id": "5d63094d",
   "metadata": {},
   "outputs": [],
   "source": [
    "def read_pdfs_from_dir(pdf_dir: str):\n",
    "    pdf_files = [f for f in os.listdir(pdf_dir) if f.lower().endswith(\".pdf\")]\n",
    "    all_texts = {}\n",
    "\n",
    "    for pdf_file in pdf_files:\n",
    "        pdf_path = os.path.join(pdf_dir, pdf_file)\n",
    "        reader = PdfReader(pdf_path)\n",
    "        \n",
    "        text = \"\"\n",
    "        for page in reader.pages:\n",
    "            text += page.extract_text() or \"\"\n",
    "        \n",
    "        all_texts[pdf_file] = text\n",
    "    \n",
    "    return all_texts\n",
    "\n"
   ]
  },
  {
   "cell_type": "code",
   "execution_count": null,
   "id": "80ec13cf",
   "metadata": {},
   "outputs": [
    {
     "name": "stdout",
     "output_type": "stream",
     "text": [
      "['Medical History Report #1\\nName: John Doe\\nAge: 45\\nHistory: John Doe, a 45-year-old male, has a history of hypertension diagnosed at age\\n38. He has been on antihypertensive medication since then. In 2018, he\\nsuffered a mild myocardial infarction and underwent angioplasty. He is a\\nnon-smoker, exercises regularly, and follows a low-sodium diet. Family history\\nis significant for cardiovascular disease. Recent labs show controlled blood\\npressure and normal cholesterol levels. He is compliant with medications and\\nattends regular follow-ups.\\nAllergies: None\\nMedications: Amlodipine 5mg, Atorvastatin 20mg\\nSurgeries: Angioplasty (2018)\\nNotes: Patient is stable. Continue current management.', 'Medical History Report #2\\nName: Jane Smith\\nAge: 60\\nHistory: Jane Smith, a 60-year-old female, has type 2 diabetes mellitus diagnosed at\\nage 50. She also has osteoarthritis of the knees. She underwent left knee\\nreplacement in 2020. She monitors her blood glucose daily and is on oral\\nhypoglycemics. She reports occasional joint pain but is otherwise active.\\nFamily history includes diabetes and hypertension.\\nAllergies: Penicillin\\nMedications: Metformin 1000mg, Glipizide 5mg, Paracetamol 500mg\\nSurgeries: Left knee replacement (2020)\\nNotes: Encouraged to maintain weight and exercise. Monitor HbA1c every 3 months.', 'Medical History Report #3\\nName: Michael Lee\\nAge: 35\\nHistory: Michael Lee, a 35-year-old male, presents with a history of asthma since\\nchildhood. He uses inhalers as needed and has had no hospitalizations in the\\npast 5 years. He works as a software engineer and reports occasional\\nwheezing during spring. No significant family history. No other chronic\\nillnesses.\\nAllergies: Dust mites\\nMedications: Salbutamol inhaler, Fluticasone inhaler\\nSurgeries: None\\nNotes: Advised to continue inhaler use as needed. Annual spirometry recommended.', 'Medical History Report #4\\nName: Emily Clark\\nAge: 28\\nHistory: Emily Clark, a 28-year-old female, has hypothyroidism diagnosed at age 22.\\nShe is on levothyroxine and attends regular endocrinology follow-ups. She\\nreports fatigue and weight gain prior to diagnosis, now resolved. No other\\nmedical issues. Family history positive for thyroid disorders.\\nAllergies: None\\nMedications: Levothyroxine 75mcg\\nSurgeries: None\\nNotes: TSH levels within normal range. Continue current dose.', 'Medical History Report #5\\nName: Carlos Martinez\\nAge: 52\\nHistory: Carlos Martinez, a 52-year-old male, has chronic kidney disease stage 3,\\ndiagnosed 3 years ago. He is under nephrology care and follows a renal diet.\\nHe has hypertension and is on multiple medications. No history of dialysis.\\nFamily history includes kidney disease in his mother.\\nAllergies: Sulfa drugs\\nMedications: Lisinopril 10mg, Furosemide 20mg, Calcium acetate\\nSurgeries: Appendectomy (childhood)\\nNotes: Monitor renal function every 6 months. Blood pressure well controlled.', 'Medical History Report #6\\nName: Priya Patel\\nAge: 40\\nHistory: Priya Patel, a 40-year-old female, has a history of breast cancer diagnosed at\\nage 37. She underwent lumpectomy followed by chemotherapy and radiation.\\nShe is currently in remission and attends oncology follow-ups every 6 months.\\nNo other chronic illnesses. Family history positive for breast cancer in maternal\\naunt.\\nAllergies: None\\nMedications: Tamoxifen 20mg\\nSurgeries: Lumpectomy (2019)\\nNotes: No evidence of recurrence. Continue regular surveillance.']\n",
      "6\n"
     ]
    }
   ],
   "source": [
    "\n",
    "pdf_dir = r\"C:\\Data Science\\Chatboat_31_08_2025\\medical_report\"\n",
    "pdf_texts = read_pdfs_from_dir(pdf_dir)\n",
    "all_content = []\n",
    "for filename, content in pdf_texts.items():\n",
    "    #print(f\"\\n--- {filename} ---\\n\")\n",
    "    #print(content[:500])  # print first 500 chars\n",
    "    all_content.append(content)\n",
    "print(all_content)\n",
    "print(len(all_content))     \n"
   ]
  },
  {
   "cell_type": "code",
   "execution_count": 6,
   "id": "b199b959",
   "metadata": {},
   "outputs": [],
   "source": [
    "# Split texts into chunks\n",
    "text_splitter = RecursiveCharacterTextSplitter(\n",
    "    chunk_size=1000,\n",
    "    chunk_overlap=200,\n",
    "    length_function=len,)"
   ]
  },
  {
   "cell_type": "code",
   "execution_count": 7,
   "id": "cceb9bfc",
   "metadata": {},
   "outputs": [
    {
     "name": "stdout",
     "output_type": "stream",
     "text": [
      "['Medical History Report #1\\nName: John Doe\\nAge: 45\\nHistory: John Doe, a 45-year-old male, has a history of hypertension diagnosed at age\\n38. He has been on antihypertensive medication since then. In 2018, he\\nsuffered a mild myocardial infarction and underwent angioplasty. He is a\\nnon-smoker, exercises regularly, and follows a low-sodium diet. Family history\\nis significant for cardiovascular disease. Recent labs show controlled blood\\npressure and normal cholesterol levels. He is compliant with medications and\\nattends regular follow-ups.\\nAllergies: None\\nMedications: Amlodipine 5mg, Atorvastatin 20mg\\nSurgeries: Angioplasty (2018)\\nNotes: Patient is stable. Continue current management.', 'Medical History Report #2\\nName: Jane Smith\\nAge: 60\\nHistory: Jane Smith, a 60-year-old female, has type 2 diabetes mellitus diagnosed at\\nage 50. She also has osteoarthritis of the knees. She underwent left knee\\nreplacement in 2020. She monitors her blood glucose daily and is on oral\\nhypoglycemics. She reports occasional joint pain but is otherwise active.\\nFamily history includes diabetes and hypertension.\\nAllergies: Penicillin\\nMedications: Metformin 1000mg, Glipizide 5mg, Paracetamol 500mg\\nSurgeries: Left knee replacement (2020)\\nNotes: Encouraged to maintain weight and exercise. Monitor HbA1c every 3 months.', 'Medical History Report #3\\nName: Michael Lee\\nAge: 35\\nHistory: Michael Lee, a 35-year-old male, presents with a history of asthma since\\nchildhood. He uses inhalers as needed and has had no hospitalizations in the\\npast 5 years. He works as a software engineer and reports occasional\\nwheezing during spring. No significant family history. No other chronic\\nillnesses.\\nAllergies: Dust mites\\nMedications: Salbutamol inhaler, Fluticasone inhaler\\nSurgeries: None\\nNotes: Advised to continue inhaler use as needed. Annual spirometry recommended.', 'Medical History Report #4\\nName: Emily Clark\\nAge: 28\\nHistory: Emily Clark, a 28-year-old female, has hypothyroidism diagnosed at age 22.\\nShe is on levothyroxine and attends regular endocrinology follow-ups. She\\nreports fatigue and weight gain prior to diagnosis, now resolved. No other\\nmedical issues. Family history positive for thyroid disorders.\\nAllergies: None\\nMedications: Levothyroxine 75mcg\\nSurgeries: None\\nNotes: TSH levels within normal range. Continue current dose.', 'Medical History Report #5\\nName: Carlos Martinez\\nAge: 52\\nHistory: Carlos Martinez, a 52-year-old male, has chronic kidney disease stage 3,\\ndiagnosed 3 years ago. He is under nephrology care and follows a renal diet.\\nHe has hypertension and is on multiple medications. No history of dialysis.\\nFamily history includes kidney disease in his mother.\\nAllergies: Sulfa drugs\\nMedications: Lisinopril 10mg, Furosemide 20mg, Calcium acetate\\nSurgeries: Appendectomy (childhood)\\nNotes: Monitor renal function every 6 months. Blood pressure well controlled.', 'Medical History Report #6\\nName: Priya Patel\\nAge: 40\\nHistory: Priya Patel, a 40-year-old female, has a history of breast cancer diagnosed at\\nage 37. She underwent lumpectomy followed by chemotherapy and radiation.\\nShe is currently in remission and attends oncology follow-ups every 6 months.\\nNo other chronic illnesses. Family history positive for breast cancer in maternal\\naunt.\\nAllergies: None\\nMedications: Tamoxifen 20mg\\nSurgeries: Lumpectomy (2019)\\nNotes: No evidence of recurrence. Continue regular surveillance.']\n"
     ]
    }
   ],
   "source": [
    "chunks = []\n",
    "for text in all_content:\n",
    "    chunks.extend(text_splitter.split_text(text))\n",
    "print(chunks)"
   ]
  },
  {
   "cell_type": "code",
   "execution_count": null,
   "id": "cc90fc77",
   "metadata": {},
   "outputs": [],
   "source": [
    "# Code to create/store the index for FAISS and retreive the relevant documents\n",
    "\n",
    "# langchain vectorstores documentation: https://python.langchain.com/docs/modules/data_connection/vectorstores/integrations/faiss\n",
    "from langchain_community.vectorstores import FAISS\n",
    "from langchain_community.embeddings import HuggingFaceEmbeddings\n",
    "from typing import List\n",
    "\n",
    "def create_faiss_index(texts):\n",
    "    # Create embeddings\n",
    "    embeddings = HuggingFaceEmbeddings(model_name=\"sentence-transformers/all-mpnet-base-v2\")\n",
    "    \n",
    "    # Create the FAISS index\n",
    "    faiss_index = FAISS.from_texts(texts, embeddings)\n",
    "    \n",
    "    return faiss_index\n",
    "\n",
    "def retrive_relevant_docs(vectorstore: FAISS, query: str, k: int = 4):\n",
    "    return vectorstore.similarity_search(query, k=k)\n",
    "\n",
    "    \n"
   ]
  },
  {
   "cell_type": "code",
   "execution_count": 9,
   "id": "61a55d7b",
   "metadata": {},
   "outputs": [
    {
     "name": "stderr",
     "output_type": "stream",
     "text": [
      "C:\\Users\\virab\\AppData\\Local\\Temp\\ipykernel_18292\\2453968113.py:10: LangChainDeprecationWarning: The class `HuggingFaceEmbeddings` was deprecated in LangChain 0.2.2 and will be removed in 1.0. An updated version of the class exists in the :class:`~langchain-huggingface package and should be used instead. To use it run `pip install -U :class:`~langchain-huggingface` and import as `from :class:`~langchain_huggingface import HuggingFaceEmbeddings``.\n",
      "  embeddings = HuggingFaceEmbeddings(model_name=\"sentence-transformers/all-mpnet-base-v2\")\n",
      "c:\\Users\\virab\\anaconda3\\envs\\medichatpro\\Lib\\site-packages\\tqdm\\auto.py:21: TqdmWarning: IProgress not found. Please update jupyter and ipywidgets. See https://ipywidgets.readthedocs.io/en/stable/user_install.html\n",
      "  from .autonotebook import tqdm as notebook_tqdm\n"
     ]
    },
    {
     "name": "stdout",
     "output_type": "stream",
     "text": [
      "<langchain_community.vectorstores.faiss.FAISS object at 0x000001F61DEC9F10>\n"
     ]
    }
   ],
   "source": [
    "# Create FAISS index\n",
    "vectorstore = create_faiss_index(chunks)\n",
    "print(vectorstore)"
   ]
  },
  {
   "cell_type": "code",
   "execution_count": 10,
   "id": "4de68136",
   "metadata": {},
   "outputs": [],
   "source": [
    "from euriai.langchain import create_chat_model # Import the function to create a chat model - this is a wrapper around Langchain's ChatOpenAI built by EURON\n",
    "\n",
    "def get_chat_model(api_key: str):\n",
    "\n",
    "    return create_chat_model(api_key=api_key, \n",
    "                             model=\"gpt-4.1-nano\", \n",
    "                             temperature=0.7)\n",
    "    \n",
    "def ask_chat_model(chat_model, question: str):\n",
    "\n",
    "    response = chat_model.invoke(question)\n",
    "    return response.content"
   ]
  },
  {
   "cell_type": "code",
   "execution_count": 11,
   "id": "510bddb8",
   "metadata": {},
   "outputs": [],
   "source": [
    "# Initialize chat model\n",
    "chat_model = get_chat_model(EURI_API_KEY)"
   ]
  },
  {
   "cell_type": "code",
   "execution_count": 12,
   "id": "700e763d",
   "metadata": {},
   "outputs": [
    {
     "data": {
      "text/plain": [
       "EuriaiChatModel(api_key='euri-cf9524cd168f919e0d809fc31399177ff083add13efac86b9e7faf30229f78f3')"
      ]
     },
     "execution_count": 12,
     "metadata": {},
     "output_type": "execute_result"
    }
   ],
   "source": [
    "chat_model"
   ]
  },
  {
   "cell_type": "code",
   "execution_count": 33,
   "id": "f8c14d47",
   "metadata": {},
   "outputs": [
    {
     "data": {
      "text/plain": [
       "[Document(id='5bbf7b0d-a3d2-400f-8f03-de865d519422', metadata={}, page_content='Medical History Report #1\\nName: John Doe\\nAge: 45\\nHistory: John Doe, a 45-year-old male, has a history of hypertension diagnosed at age\\n38. He has been on antihypertensive medication since then. In 2018, he\\nsuffered a mild myocardial infarction and underwent angioplasty. He is a\\nnon-smoker, exercises regularly, and follows a low-sodium diet. Family history\\nis significant for cardiovascular disease. Recent labs show controlled blood\\npressure and normal cholesterol levels. He is compliant with medications and\\nattends regular follow-ups.\\nAllergies: None\\nMedications: Amlodipine 5mg, Atorvastatin 20mg\\nSurgeries: Angioplasty (2018)\\nNotes: Patient is stable. Continue current management.'),\n",
       " Document(id='4ebef349-5ed9-4c4a-b95e-c8e52b3ceb99', metadata={}, page_content='Medical History Report #4\\nName: Emily Clark\\nAge: 28\\nHistory: Emily Clark, a 28-year-old female, has hypothyroidism diagnosed at age 22.\\nShe is on levothyroxine and attends regular endocrinology follow-ups. She\\nreports fatigue and weight gain prior to diagnosis, now resolved. No other\\nmedical issues. Family history positive for thyroid disorders.\\nAllergies: None\\nMedications: Levothyroxine 75mcg\\nSurgeries: None\\nNotes: TSH levels within normal range. Continue current dose.'),\n",
       " Document(id='57aedbfe-dc75-4015-a892-ce6cd1918e6e', metadata={}, page_content='Medical History Report #2\\nName: Jane Smith\\nAge: 60\\nHistory: Jane Smith, a 60-year-old female, has type 2 diabetes mellitus diagnosed at\\nage 50. She also has osteoarthritis of the knees. She underwent left knee\\nreplacement in 2020. She monitors her blood glucose daily and is on oral\\nhypoglycemics. She reports occasional joint pain but is otherwise active.\\nFamily history includes diabetes and hypertension.\\nAllergies: Penicillin\\nMedications: Metformin 1000mg, Glipizide 5mg, Paracetamol 500mg\\nSurgeries: Left knee replacement (2020)\\nNotes: Encouraged to maintain weight and exercise. Monitor HbA1c every 3 months.'),\n",
       " Document(id='94d503a8-c3a8-465a-ad1b-8acaae3c055f', metadata={}, page_content='Medical History Report #3\\nName: Michael Lee\\nAge: 35\\nHistory: Michael Lee, a 35-year-old male, presents with a history of asthma since\\nchildhood. He uses inhalers as needed and has had no hospitalizations in the\\npast 5 years. He works as a software engineer and reports occasional\\nwheezing during spring. No significant family history. No other chronic\\nillnesses.\\nAllergies: Dust mites\\nMedications: Salbutamol inhaler, Fluticasone inhaler\\nSurgeries: None\\nNotes: Advised to continue inhaler use as needed. Annual spirometry recommended.'),\n",
       " Document(id='5eccc15e-f38b-429a-9a36-f4a787d1dde3', metadata={}, page_content='Medical History Report #6\\nName: Priya Patel\\nAge: 40\\nHistory: Priya Patel, a 40-year-old female, has a history of breast cancer diagnosed at\\nage 37. She underwent lumpectomy followed by chemotherapy and radiation.\\nShe is currently in remission and attends oncology follow-ups every 6 months.\\nNo other chronic illnesses. Family history positive for breast cancer in maternal\\naunt.\\nAllergies: None\\nMedications: Tamoxifen 20mg\\nSurgeries: Lumpectomy (2019)\\nNotes: No evidence of recurrence. Continue regular surveillance.'),\n",
       " Document(id='c8f2619f-977b-4655-91a1-83040fc2e954', metadata={}, page_content='Medical History Report #5\\nName: Carlos Martinez\\nAge: 52\\nHistory: Carlos Martinez, a 52-year-old male, has chronic kidney disease stage 3,\\ndiagnosed 3 years ago. He is under nephrology care and follows a renal diet.\\nHe has hypertension and is on multiple medications. No history of dialysis.\\nFamily history includes kidney disease in his mother.\\nAllergies: Sulfa drugs\\nMedications: Lisinopril 10mg, Furosemide 20mg, Calcium acetate\\nSurgeries: Appendectomy (childhood)\\nNotes: Monitor renal function every 6 months. Blood pressure well controlled.')]"
      ]
     },
     "execution_count": 33,
     "metadata": {},
     "output_type": "execute_result"
    }
   ],
   "source": [
    "prompt = \"John Doe \"\n",
    "relevant_docs = retrive_relevant_docs(vectorstore, prompt)\n",
    "relevant_docs"
   ]
  },
  {
   "cell_type": "code",
   "execution_count": 35,
   "id": "66d15ce3",
   "metadata": {},
   "outputs": [
    {
     "name": "stdout",
     "output_type": "stream",
     "text": [
      "Based on the provided medical history, John Doe is a 45-year-old male with a longstanding history of hypertension diagnosed at age 38, which has been well managed with medication (Amlodipine 5mg). He has a history of mild myocardial infarction in 2018, for which he underwent angioplasty, indicating some degree of coronary artery disease. His recent labs show controlled blood pressure and normal cholesterol levels, suggesting good adherence to his management plan.\n",
      "\n",
      "**Full Diagnostic Summary:**\n",
      "John's clinical profile indicates stable hypertensive cardiovascular disease with prior myocardial infarction, now well-controlled through antihypertensive medication and lifestyle measures. His history of MI and angioplasty places him at increased risk for future cardiovascular events, necessitating ongoing risk management. The absence of current symptoms and normal labs suggest his condition is stable, but continued vigilance is essential.\n",
      "\n",
      "**Full Diagnosis:**\n",
      "- Stable hypertension with previous myocardial infarction (post-angioplasty)\n",
      "- No current evidence of heart failure or acute coronary syndrome\n",
      "- No signs of active ischemia or other complications at this time\n",
      "\n",
      "**Recommendations (based on the document):**\n",
      "- Continue current antihypertensive therapy (Amlodipine) and statin (Atorvastatin)\n",
      "- Maintain regular follow-up visits for cardiovascular risk assessment\n",
      "- Lifestyle adherence (exercise, low-sodium diet)\n",
      "- Monitor for any new symptoms like chest pain, dyspnea, or signs of heart failure\n",
      "\n",
      "**Note:** The document indicates that his condition is stable (\"Patient is stable. Continue current management\"), so ongoing maintenance and risk reduction are key.\n",
      "\n",
      "**Source:** Medical History Report #1\n"
     ]
    }
   ],
   "source": [
    "# Create context from relevant documents\n",
    "context = \"\\n\\n\".join([doc.page_content for doc in relevant_docs])\n",
    "# Create prompt with context\n",
    "system_prompt = f\"\"\"You are MediChat Pro, an intelligent medical document assistant. \n",
    "                Based on the following medical documents, provide accurate and helpful answers. \n",
    "                If the information is not in the documents, clearly state that.\n",
    "                While giving answers, make sure to cite the source document for reference. also,\n",
    "                when you are giving an answer make sure to take help of LLM and give a full diagnosis of the problem.\n",
    "                \n",
    "Medical Documents:\n",
    "{context}\n",
    "\n",
    "User Question: {prompt}\n",
    "\n",
    "Answer:\"\"\"\n",
    "                \n",
    "response = ask_chat_model(chat_model, system_prompt)\n",
    "print(response)"
   ]
  }
 ],
 "metadata": {
  "kernelspec": {
   "display_name": "medichatpro",
   "language": "python",
   "name": "python3"
  },
  "language_info": {
   "codemirror_mode": {
    "name": "ipython",
    "version": 3
   },
   "file_extension": ".py",
   "mimetype": "text/x-python",
   "name": "python",
   "nbconvert_exporter": "python",
   "pygments_lexer": "ipython3",
   "version": "3.11.13"
  }
 },
 "nbformat": 4,
 "nbformat_minor": 5
}
